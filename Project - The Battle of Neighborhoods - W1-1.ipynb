{
 "cells": [
  {
   "cell_type": "markdown",
   "metadata": {},
   "source": [
    "# The Battle of Neighborhoods"
   ]
  },
  {
   "cell_type": "markdown",
   "metadata": {},
   "source": [
    "# 1 -\tIntroduction"
   ]
  },
  {
   "cell_type": "markdown",
   "metadata": {},
   "source": [
    "### Description of the problem and a discussion of the background:\n",
    "#### I am Shah Nawaj Rahman,\n",
    "A data enthusiast residing in Mirpur, Dhaka, Bangladesh. \n",
    "I enjoy many ammenities and venues in the area, such as various international cousine restaurants, cafes, food shops and entertainment.\n",
    "I have been offered a great opportunity to work for a one of the top Retail company which is located in another part of the city. Banani, Dhaka, Bangladesh. I am very excited and I want to use this opportunity to practice my learnings in Coursera in order to answer relevant questions arisen.\n",
    "The key question is :  How can I find a convenient and enjoyable place similar to my current location Mirpur, within Banani Area?\n",
    "\n",
    "Certainly, I can use available local informative websites, apps and Google but the idea is to use and apply myself the learned tools during the course.\n",
    "In order to make a comparison and evaluation of the options in Banani, I must set some basis, therefore the house in Banani must meet the following demands:\n",
    " - apartment must be 2 Rooms.\n",
    " - desired location is near bus station and within 1.0 km radius.\n",
    " - price of rent not exceed BDT 15000 per month.\n",
    " - top ammenities in the Banani neighborhood shall be similar to current residence.\n",
    " - desirable to have venues such as coffee shops, restaurants, gym and food shops.\n",
    " - as a reference, I have included a map of venues near Mirpur, Dhaka."
   ]
  },
  {
   "cell_type": "markdown",
   "metadata": {},
   "source": [
    "### Business Problem:   \n",
    "The challenge is to find a suitable apartment for rent in Banani, Dhaka; that complies with the demands on location, price and venues. The data required to resolve this challenge is described in the Data Section below.\n",
    "\n",
    "\n",
    "### Interested Audience\n",
    "I believe this is a relevant challenge with valid questions for anyone moving to other city or to a different part of the same city. The same methodology can be applied in accordance to demands as applicable. This case is also applicable for anyone interested in exploring starting or locating a new business in any city. Lastly, it can also serve as a good practical exercise to develop Data Science skills."
   ]
  }
 ],
 "metadata": {
  "kernelspec": {
   "display_name": "Python 3 (ipykernel)",
   "language": "python",
   "name": "python3"
  },
  "language_info": {
   "codemirror_mode": {
    "name": "ipython",
    "version": 3
   },
   "file_extension": ".py",
   "mimetype": "text/x-python",
   "name": "python",
   "nbconvert_exporter": "python",
   "pygments_lexer": "ipython3",
   "version": "3.8.8"
  }
 },
 "nbformat": 4,
 "nbformat_minor": 4
}
