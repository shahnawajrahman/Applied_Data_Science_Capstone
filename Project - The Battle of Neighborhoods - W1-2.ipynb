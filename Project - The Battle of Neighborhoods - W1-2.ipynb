{
 "cells": [
  {
   "cell_type": "markdown",
   "metadata": {},
   "source": [
    "# The Battle of Neighborhoods"
   ]
  },
  {
   "cell_type": "markdown",
   "metadata": {},
   "source": [
    "# 2 - DATA"
   ]
  },
  {
   "cell_type": "markdown",
   "metadata": {},
   "source": [
    "### Description of the problem and a discussion of the background:\n",
    "The following data is required to  answer the issues of the problem:\n",
    "\n",
    "- List of neighborhood in Banani with geo data (latitud and longitud) \n",
    "- List of  Bus stations in Banani with their address location \n",
    "- List of house for rent in Banani area with their addresses and price\n",
    "- Preferably, a list of apartment for rent with additional information, such as price, address, area, room, etc\n",
    "- Venues for each Banani neighborhood ( than can be clustered)\n",
    "\n",
    "\n",
    "### How the data will be used to solve the problem\n",
    "\n",
    "The data will be used as follows:\n",
    "- Use Foursquare and geopy data to map top 10 venues for all Banani neighborhoods and clustered in groups ( as per Course LAB)\n",
    "- Use foursquare and geopy data to map the location of bus stations , separately and on top of the above clustered map in order to be able to identify the venues and ammenities\n",
    "- create a map that depicts, for instance, the average rental price, around a radious of 1.0 km around each bus station - or a similar metrics.\n",
    "- Addresses from rental locations will be converted to geodata( lat, long) using Geopy-distance and Nominatim.\n",
    "- Data will be searched in open data sources if available, from real estate sites if open to reading, and libraries.\n",
    "\n",
    "\n",
    "The procesing of these DATA will allow to answer the key questions to make a decision:\n",
    "- what is the cost of rent around a 1.0 km radius from each bus station?\n",
    "- what is the area of Banani with best rental pricing that meets criteria established?\n",
    "- What is the distance from work place (Banani Commercial Area) and the tentative future home?\n",
    "- What are the venues of the two best places to live? How the prices compare?\n",
    "- How venues distribute among Banani neighborhoods and around bus stations?\n",
    "- Are there tradeoffs between size and price and location?\n",
    "- Any other interesting statistical data findings of the real estate and overall data."
   ]
  }
 ],
 "metadata": {
  "kernelspec": {
   "display_name": "Python 3 (ipykernel)",
   "language": "python",
   "name": "python3"
  },
  "language_info": {
   "codemirror_mode": {
    "name": "ipython",
    "version": 3
   },
   "file_extension": ".py",
   "mimetype": "text/x-python",
   "name": "python",
   "nbconvert_exporter": "python",
   "pygments_lexer": "ipython3",
   "version": "3.8.8"
  }
 },
 "nbformat": 4,
 "nbformat_minor": 4
}
